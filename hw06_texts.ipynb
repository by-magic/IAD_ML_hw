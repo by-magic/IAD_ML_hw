{
 "cells": [
  {
   "cell_type": "markdown",
   "metadata": {
    "id": "xrvOD02o3HvH"
   },
   "source": [
    "# Домашнее задание 6: классификация текстов"
   ]
  },
  {
   "cell_type": "markdown",
   "metadata": {
    "id": "sxwj_Iie3HvJ"
   },
   "source": [
    "В этом домашнем задании вам предстоит построить классификатор текстов!\n",
    "\n",
    "Данные мы будем использовать из Kaggle соревнования: https://www.kaggle.com/competitions/nlp-getting-started/data \n",
    "\n",
    "\n",
    "Оттуда надо скачать файл train.csv. На обучающую и тестовую выборки его поделим кодом ниже, менять его не надо!"
   ]
  },
  {
   "cell_type": "markdown",
   "metadata": {
    "id": "qQVgqLg93HvJ"
   },
   "source": [
    "Мы будем работать с датасетом постов из твиттера. Нам предстоит решать задачу бинарной классификации - определять содержатся ли в твитте информация о настоящей катастрофе/инциденте или нет."
   ]
  },
  {
   "cell_type": "code",
   "execution_count": 1,
   "metadata": {
    "id": "TcjEYh7R3HvK"
   },
   "outputs": [],
   "source": [
    "import numpy as np\n",
    "import pandas as pd\n",
    "from typing import  List\n",
    "import matplotlib.pyplot as plt\n",
    "import seaborn as sns\n",
    "from string import punctuation"
   ]
  },
  {
   "cell_type": "code",
   "execution_count": 2,
   "metadata": {
    "id": "mjwffGiB3HvK"
   },
   "outputs": [],
   "source": [
    "data = pd.read_csv('train.csv')"
   ]
  },
  {
   "cell_type": "code",
   "execution_count": 3,
   "metadata": {
    "colab": {
     "base_uri": "https://localhost:8080/",
     "height": 206
    },
    "id": "v0uUoFTN3HvK",
    "outputId": "0d37d677-a00d-449c-8f86-6f85dce2ef4a"
   },
   "outputs": [
    {
     "data": {
      "text/html": [
       "<div>\n",
       "<style scoped>\n",
       "    .dataframe tbody tr th:only-of-type {\n",
       "        vertical-align: middle;\n",
       "    }\n",
       "\n",
       "    .dataframe tbody tr th {\n",
       "        vertical-align: top;\n",
       "    }\n",
       "\n",
       "    .dataframe thead th {\n",
       "        text-align: right;\n",
       "    }\n",
       "</style>\n",
       "<table border=\"1\" class=\"dataframe\">\n",
       "  <thead>\n",
       "    <tr style=\"text-align: right;\">\n",
       "      <th></th>\n",
       "      <th>id</th>\n",
       "      <th>keyword</th>\n",
       "      <th>location</th>\n",
       "      <th>text</th>\n",
       "      <th>target</th>\n",
       "    </tr>\n",
       "  </thead>\n",
       "  <tbody>\n",
       "    <tr>\n",
       "      <th>0</th>\n",
       "      <td>1</td>\n",
       "      <td>NaN</td>\n",
       "      <td>NaN</td>\n",
       "      <td>Our Deeds are the Reason of this #earthquake M...</td>\n",
       "      <td>1</td>\n",
       "    </tr>\n",
       "    <tr>\n",
       "      <th>1</th>\n",
       "      <td>4</td>\n",
       "      <td>NaN</td>\n",
       "      <td>NaN</td>\n",
       "      <td>Forest fire near La Ronge Sask. Canada</td>\n",
       "      <td>1</td>\n",
       "    </tr>\n",
       "    <tr>\n",
       "      <th>2</th>\n",
       "      <td>5</td>\n",
       "      <td>NaN</td>\n",
       "      <td>NaN</td>\n",
       "      <td>All residents asked to 'shelter in place' are ...</td>\n",
       "      <td>1</td>\n",
       "    </tr>\n",
       "    <tr>\n",
       "      <th>3</th>\n",
       "      <td>6</td>\n",
       "      <td>NaN</td>\n",
       "      <td>NaN</td>\n",
       "      <td>13,000 people receive #wildfires evacuation or...</td>\n",
       "      <td>1</td>\n",
       "    </tr>\n",
       "    <tr>\n",
       "      <th>4</th>\n",
       "      <td>7</td>\n",
       "      <td>NaN</td>\n",
       "      <td>NaN</td>\n",
       "      <td>Just got sent this photo from Ruby #Alaska as ...</td>\n",
       "      <td>1</td>\n",
       "    </tr>\n",
       "  </tbody>\n",
       "</table>\n",
       "</div>"
      ],
      "text/plain": [
       "   id keyword location                                               text  \\\n",
       "0   1     NaN      NaN  Our Deeds are the Reason of this #earthquake M...   \n",
       "1   4     NaN      NaN             Forest fire near La Ronge Sask. Canada   \n",
       "2   5     NaN      NaN  All residents asked to 'shelter in place' are ...   \n",
       "3   6     NaN      NaN  13,000 people receive #wildfires evacuation or...   \n",
       "4   7     NaN      NaN  Just got sent this photo from Ruby #Alaska as ...   \n",
       "\n",
       "   target  \n",
       "0       1  \n",
       "1       1  \n",
       "2       1  \n",
       "3       1  \n",
       "4       1  "
      ]
     },
     "execution_count": 3,
     "metadata": {},
     "output_type": "execute_result"
    }
   ],
   "source": [
    "data.head()"
   ]
  },
  {
   "cell_type": "code",
   "execution_count": 4,
   "metadata": {
    "id": "f49NdWY23HvL"
   },
   "outputs": [],
   "source": [
    "from sklearn.model_selection import train_test_split\n",
    "\n",
    "train, test = train_test_split(data, test_size=0.3, random_state=42)"
   ]
  },
  {
   "cell_type": "markdown",
   "metadata": {
    "id": "YlLemInT3HvL"
   },
   "source": [
    "## Задание 1 (0.5 балла)\n",
    "\n",
    "Выведете на экран информацию о пропусках в данных. Если пропуски присутствуют заполните их пустой строкой."
   ]
  },
  {
   "cell_type": "code",
   "execution_count": 5,
   "metadata": {
    "id": "96aJxmkV4105"
   },
   "outputs": [
    {
     "data": {
      "text/plain": [
       "id          0.000000\n",
       "keyword     0.008257\n",
       "location    0.330268\n",
       "text        0.000000\n",
       "target      0.000000\n",
       "dtype: float64"
      ]
     },
     "execution_count": 5,
     "metadata": {},
     "output_type": "execute_result"
    }
   ],
   "source": [
    "train.isna().mean()"
   ]
  },
  {
   "cell_type": "code",
   "execution_count": 6,
   "metadata": {},
   "outputs": [
    {
     "data": {
      "text/plain": [
       "id          0.0\n",
       "keyword     0.0\n",
       "location    0.0\n",
       "text        0.0\n",
       "target      0.0\n",
       "dtype: float64"
      ]
     },
     "execution_count": 6,
     "metadata": {},
     "output_type": "execute_result"
    }
   ],
   "source": [
    "train = train.fillna(\"\")\n",
    "train.isna().mean()"
   ]
  },
  {
   "cell_type": "code",
   "execution_count": 7,
   "metadata": {},
   "outputs": [
    {
     "data": {
      "text/plain": [
       "id          0.000000\n",
       "keyword     0.007443\n",
       "location    0.338441\n",
       "text        0.000000\n",
       "target      0.000000\n",
       "dtype: float64"
      ]
     },
     "execution_count": 7,
     "metadata": {},
     "output_type": "execute_result"
    }
   ],
   "source": [
    "test.isna().mean()"
   ]
  },
  {
   "cell_type": "code",
   "execution_count": 8,
   "metadata": {},
   "outputs": [
    {
     "data": {
      "text/plain": [
       "id          0.0\n",
       "keyword     0.0\n",
       "location    0.0\n",
       "text        0.0\n",
       "target      0.0\n",
       "dtype: float64"
      ]
     },
     "execution_count": 8,
     "metadata": {},
     "output_type": "execute_result"
    }
   ],
   "source": [
    "test = test.fillna(\"\")\n",
    "test.isna().mean()"
   ]
  },
  {
   "cell_type": "markdown",
   "metadata": {
    "id": "A8CPBUal3HvL"
   },
   "source": [
    "## Задание 2 (1 балл)\n",
    "Давайте немного посмотрим на наши данные. Визуализируйте (где явно просят) или выведете информацию о следующем:\n",
    "\n",
    "1. Какое распределение классов в обучающей выборке?\n"
   ]
  },
  {
   "cell_type": "code",
   "execution_count": 9,
   "metadata": {
    "id": "WvJ_EU9o5BGm"
   },
   "outputs": [
    {
     "data": {
      "text/plain": [
       "0    3024\n",
       "1    2305\n",
       "Name: target, dtype: int64"
      ]
     },
     "execution_count": 9,
     "metadata": {},
     "output_type": "execute_result"
    }
   ],
   "source": [
    "train.target.value_counts()"
   ]
  },
  {
   "cell_type": "markdown",
   "metadata": {},
   "source": [
    "Видим, что положительного класса меньше примерно на 25%"
   ]
  },
  {
   "cell_type": "markdown",
   "metadata": {
    "id": "f08KScbP5q2y"
   },
   "source": [
    "2. Посмотрите на колонку \"keyword\" - возьмите 10 наиболее встречающихся значений, постройте ступенчатую диаграмму распределения классов в зависимости от значения keyword, сделайте выводы."
   ]
  },
  {
   "cell_type": "markdown",
   "metadata": {},
   "source": [
    "Так как самым популярным значением является пустая строка, выведем элементы со 2-ого по 11-ый."
   ]
  },
  {
   "cell_type": "code",
   "execution_count": 10,
   "metadata": {
    "id": "WSCb0htu5w_Y"
   },
   "outputs": [
    {
     "data": {
      "text/plain": [
       "damage        36\n",
       "siren         35\n",
       "wreckage      34\n",
       "fatalities    33\n",
       "deluge        31\n",
       "refugees      30\n",
       "derail        30\n",
       "fear          30\n",
       "tsunami       30\n",
       "fatality      30\n",
       "Name: keyword, dtype: int64"
      ]
     },
     "execution_count": 10,
     "metadata": {},
     "output_type": "execute_result"
    }
   ],
   "source": [
    "popular_keywords = train.keyword.value_counts()[1:11]\n",
    "popular_keywords"
   ]
  },
  {
   "cell_type": "code",
   "execution_count": 58,
   "metadata": {},
   "outputs": [
    {
     "data": {
      "text/plain": [
       "1186    False\n",
       "4071    False\n",
       "5461    False\n",
       "5787    False\n",
       "7445    False\n",
       "        ...  \n",
       "5226    False\n",
       "5390    False\n",
       "860     False\n",
       "7603    False\n",
       "7270    False\n",
       "Name: keyword, Length: 5329, dtype: bool"
      ]
     },
     "execution_count": 58,
     "metadata": {},
     "output_type": "execute_result"
    }
   ],
   "source": [
    "freq_mask = train.keyword.isin(popular_keywords.index.to_list())\n",
    "freq_mask.sort_index(key=)"
   ]
  },
  {
   "cell_type": "code",
   "execution_count": null,
   "metadata": {},
   "outputs": [],
   "source": [
    "freq_mask = train.keyword.isin(popular_keywords.index.to_list())\n",
    "plt.figure(figsize=(16,8))\n",
    "plt.title(\"Top 10 popular keywords\")\n",
    "sns.histplot(train[freq_mask], x=\"keyword\", hue=\"target\", palette=\"pastel\", element=\"step\", discrete=False)\n",
    "plt.show()"
   ]
  },
  {
   "cell_type": "code",
   "execution_count": 11,
   "metadata": {},
   "outputs": [
    {
     "data": {
      "image/png": "[encoded data removed]",
      "text/plain": [
       "<Figure size 1600x800 with 1 Axes>"
      ]
     },
     "metadata": {},
     "output_type": "display_data"
    }
   ],
   "source": [
    "freq_mask = train.keyword.isin(popular_keywords.index.to_list())\n",
    "plt.figure(figsize=(16,8))\n",
    "plt.title(\"Top 10 popular keywords\")\n",
    "sns.histplot(train[freq_mask], x=\"keyword\", hue=\"target\", palette=\"pastel\", element=\"step\", discrete=False)\n",
    "plt.show()"
   ]
  },
  {
   "cell_type": "markdown",
   "metadata": {
    "id": "l4al3g9E-P09"
   },
   "source": [
    "**Выводы**: Так, на графике можно видеть, что есть слова которые однозначно определяют положительный класс (wreckage - крушение); слово refugees (беженцы) также в большей части сопутствует положительному классу, что и не удивительно, так как беженцы чаще всего появляются после какой-либо катастрофы.\n",
    "\n",
    "Есть слова, которые примерно одинаково влияют на target - damage (повреждение), derail (сойти с рельсов), fatalities (смертельные случаи).\n",
    "\n",
    "Однако больше всего слов из 10 самых популярных относят наш твит к негативному классу (siren (сирена), deluge (потоп), fatality (смерть), tsunami (цунами), fear (опасения))."
   ]
  },
  {
   "cell_type": "markdown",
   "metadata": {
    "id": "c006nNBP3HvM"
   },
   "source": [
    "## Задание 3 (0.5 балла) \n",
    "\n",
    "В этом задании предлагается объединить все три текстовых столбца в один (просто сконкатенировать cтроки) и убрать столбец с индексом."
   ]
  },
  {
   "cell_type": "code",
   "execution_count": 12,
   "metadata": {
    "colab": {
     "base_uri": "https://localhost:8080/",
     "height": 143
    },
    "id": "GdF9gFmL-c0r",
    "outputId": "ebe008b7-4d0e-4bc2-89f3-60a575c1b1fd"
   },
   "outputs": [
    {
     "data": {
      "text/html": [
       "<div>\n",
       "<style scoped>\n",
       "    .dataframe tbody tr th:only-of-type {\n",
       "        vertical-align: middle;\n",
       "    }\n",
       "\n",
       "    .dataframe tbody tr th {\n",
       "        vertical-align: top;\n",
       "    }\n",
       "\n",
       "    .dataframe thead th {\n",
       "        text-align: right;\n",
       "    }\n",
       "</style>\n",
       "<table border=\"1\" class=\"dataframe\">\n",
       "  <thead>\n",
       "    <tr style=\"text-align: right;\">\n",
       "      <th></th>\n",
       "      <th>id</th>\n",
       "      <th>keyword</th>\n",
       "      <th>location</th>\n",
       "      <th>text</th>\n",
       "      <th>target</th>\n",
       "    </tr>\n",
       "  </thead>\n",
       "  <tbody>\n",
       "    <tr>\n",
       "      <th>6590</th>\n",
       "      <td>9436</td>\n",
       "      <td>survivors</td>\n",
       "      <td>Marietta, GA</td>\n",
       "      <td>Stemming from my #Cubs talk- the team rosters ...</td>\n",
       "      <td>1</td>\n",
       "    </tr>\n",
       "    <tr>\n",
       "      <th>7122</th>\n",
       "      <td>10203</td>\n",
       "      <td>violent%20storm</td>\n",
       "      <td></td>\n",
       "      <td>If you were the NWS wth a rotating storm w/ a ...</td>\n",
       "      <td>1</td>\n",
       "    </tr>\n",
       "    <tr>\n",
       "      <th>2769</th>\n",
       "      <td>3980</td>\n",
       "      <td>devastation</td>\n",
       "      <td>Atlanta g.a.</td>\n",
       "      <td>http://t.co/Gxgm1T3W0J From Devastation to Ela...</td>\n",
       "      <td>0</td>\n",
       "    </tr>\n",
       "  </tbody>\n",
       "</table>\n",
       "</div>"
      ],
      "text/plain": [
       "         id          keyword      location  \\\n",
       "6590   9436        survivors  Marietta, GA   \n",
       "7122  10203  violent%20storm                 \n",
       "2769   3980      devastation  Atlanta g.a.   \n",
       "\n",
       "                                                   text  target  \n",
       "6590  Stemming from my #Cubs talk- the team rosters ...       1  \n",
       "7122  If you were the NWS wth a rotating storm w/ a ...       1  \n",
       "2769  http://t.co/Gxgm1T3W0J From Devastation to Ela...       0  "
      ]
     },
     "execution_count": 12,
     "metadata": {},
     "output_type": "execute_result"
    }
   ],
   "source": [
    "train.loc[[6590, 7122, 2769]]"
   ]
  },
  {
   "cell_type": "code",
   "execution_count": 14,
   "metadata": {
    "id": "lwwJKX_l-eoh"
   },
   "outputs": [],
   "source": [
    "train_new = train[['keyword','location', 'text', 'target']].copy()\n",
    "train_new['text'] = train_new[['keyword','location', 'text']].agg(' '.join, axis=1)\n",
    "train_new = train_new.drop(['keyword','location'], axis=1)"
   ]
  },
  {
   "cell_type": "markdown",
   "metadata": {},
   "source": [
    "Обработаем таким же образом test, так как в будущем мы будем предсказывать на test."
   ]
  },
  {
   "cell_type": "code",
   "execution_count": 15,
   "metadata": {},
   "outputs": [],
   "source": [
    "test_new = test[['keyword','location', 'text', 'target']].copy()\n",
    "test_new['text'] = test_new[['keyword','location', 'text']].agg(' '.join, axis=1)\n",
    "test_new = test_new.drop(['keyword','location'], axis=1)"
   ]
  },
  {
   "cell_type": "code",
   "execution_count": 16,
   "metadata": {
    "colab": {
     "base_uri": "https://localhost:8080/",
     "height": 143
    },
    "id": "jk7P70XX_CpT",
    "outputId": "5cf01b29-8ada-46d7-f7ee-74e7aed37996"
   },
   "outputs": [
    {
     "data": {
      "text/html": [
       "<div>\n",
       "<style scoped>\n",
       "    .dataframe tbody tr th:only-of-type {\n",
       "        vertical-align: middle;\n",
       "    }\n",
       "\n",
       "    .dataframe tbody tr th {\n",
       "        vertical-align: top;\n",
       "    }\n",
       "\n",
       "    .dataframe thead th {\n",
       "        text-align: right;\n",
       "    }\n",
       "</style>\n",
       "<table border=\"1\" class=\"dataframe\">\n",
       "  <thead>\n",
       "    <tr style=\"text-align: right;\">\n",
       "      <th></th>\n",
       "      <th>text</th>\n",
       "      <th>target</th>\n",
       "    </tr>\n",
       "  </thead>\n",
       "  <tbody>\n",
       "    <tr>\n",
       "      <th>6590</th>\n",
       "      <td>survivors Marietta, GA Stemming from my #Cubs ...</td>\n",
       "      <td>1</td>\n",
       "    </tr>\n",
       "    <tr>\n",
       "      <th>7122</th>\n",
       "      <td>violent%20storm  If you were the NWS wth a rot...</td>\n",
       "      <td>1</td>\n",
       "    </tr>\n",
       "    <tr>\n",
       "      <th>2769</th>\n",
       "      <td>devastation Atlanta g.a. http://t.co/Gxgm1T3W0...</td>\n",
       "      <td>0</td>\n",
       "    </tr>\n",
       "  </tbody>\n",
       "</table>\n",
       "</div>"
      ],
      "text/plain": [
       "                                                   text  target\n",
       "6590  survivors Marietta, GA Stemming from my #Cubs ...       1\n",
       "7122  violent%20storm  If you were the NWS wth a rot...       1\n",
       "2769  devastation Atlanta g.a. http://t.co/Gxgm1T3W0...       0"
      ]
     },
     "execution_count": 16,
     "metadata": {},
     "output_type": "execute_result"
    }
   ],
   "source": [
    "train_new.loc[[6590, 7122, 2769]]"
   ]
  },
  {
   "cell_type": "markdown",
   "metadata": {
    "id": "ViXdGTxP3HvM"
   },
   "source": [
    "## Задание 4 (0.5 балла)\n",
    "\n",
    "Далее мы будем пока работать только с train частью.\n",
    "\n",
    "1. Предобработайте данные (train часть) с помощью CountVectorizer.\n",
    "2. Какого размера получилась матрица?\n"
   ]
  },
  {
   "cell_type": "code",
   "execution_count": 17,
   "metadata": {
    "id": "oB1MTqUVAbPA"
   },
   "outputs": [],
   "source": [
    "from sklearn.feature_extraction.text import CountVectorizer\n",
    "\n",
    "vec = CountVectorizer(ngram_range=(1, 1))\n",
    "bow = vec.fit_transform(train_new.text)"
   ]
  },
  {
   "cell_type": "code",
   "execution_count": 18,
   "metadata": {},
   "outputs": [
    {
     "data": {
      "text/plain": [
       "(5329, 18455)"
      ]
     },
     "execution_count": 18,
     "metadata": {},
     "output_type": "execute_result"
    }
   ],
   "source": [
    "bow.shape"
   ]
  },
  {
   "cell_type": "markdown",
   "metadata": {},
   "source": [
    "Матрица (мешок слов) получилась достаточно большого размера: 5329 строк и 18455 колонок."
   ]
  },
  {
   "cell_type": "markdown",
   "metadata": {
    "id": "A4waLlnC3HvM"
   },
   "source": [
    "## Задание 5 (1 балл)\n",
    "\n",
    "В предыдущем пункте у вас должна была получиться достаточно большая матрица.\n",
    "Если вы взгляните на текст, то увидете, что там есть множество специальных символов, ссылок и прочего мусора.\n",
    "\n",
    "Давайте также посмотрим на словарь, который получился в результате построения CountVectorizer, его можно найти в поле vocabulary_ инстанса этого класса. Давайте напишем функцию, которая печает ответы на следующие вопросы:\n",
    "\n",
    "1. Найдите в этом словаре все слова, которые содержат цифры. Сколько таких слов нашлось?\n",
    "\n",
    "2. Найдите все слова, которые содержат символы пунктуации. Сколько таких слов нашлось? \n",
    "\n",
    "3. Сколько хэштегов (токен начинается на #) и упоминаний (токен начинается на @) осталось в словаре?"
   ]
  },
  {
   "cell_type": "code",
   "execution_count": 19,
   "metadata": {},
   "outputs": [],
   "source": [
    "import re"
   ]
  },
  {
   "cell_type": "code",
   "execution_count": 20,
   "metadata": {
    "id": "7PhQSWqcHhU8"
   },
   "outputs": [],
   "source": [
    "def contains_digit(s: str) -> bool:\n",
    "    # Проверка, содержит ли слово цифры\n",
    "    return bool(re.search(r\"\\d\", s))\n",
    "\n",
    "def contains_punctuation(s: str) -> bool:\n",
    "    # Проверка, содержит ли слово пунктуацию\n",
    "    return bool(re.search(r\"[\\W\\_]\", s))\n",
    "\n",
    "def is_hashtag(s: str) -> bool:\n",
    "    # Проверка, является ли слово хэштегом\n",
    "    return bool(re.search(r\"^#\", s))\n",
    "\n",
    "def is_mention(s: str) -> bool:\n",
    "    # Проверка, является ли слово упоминанием\n",
    "    return bool(re.search(r\"^@\", s))\n",
    "\n",
    "def investigate_vocabulary(vocabulary):\n",
    "    count_digit = list(map(contains_digit, vocabulary.keys()))\n",
    "    count_punctuation = list(map(contains_punctuation, vocabulary.keys()))\n",
    "    count_hashtag = list(map(is_hashtag, vocabulary.keys()))\n",
    "    count_mention = list(map(is_mention, vocabulary.keys()))\n",
    "    \n",
    "    print('With digit:      ', sum(count_digit)\n",
    "          )\n",
    "    print('With punctuation:', sum(count_punctuation)\n",
    "          )\n",
    "    print('Hashtags:        ', sum(count_hashtag)\n",
    "          )\n",
    "    print('Mentions:        ', sum(count_mention)\n",
    "          )\n"
   ]
  },
  {
   "cell_type": "code",
   "execution_count": 21,
   "metadata": {
    "colab": {
     "base_uri": "https://localhost:8080/"
    },
    "id": "s8hL5ZcQIdp6",
    "outputId": "c8b50455-38f2-455d-c9f6-96b03a7e09ce"
   },
   "outputs": [
    {
     "name": "stdout",
     "output_type": "stream",
     "text": [
      "With digit:       2\n",
      "With punctuation: 7\n",
      "Hashtags:         1\n",
      "Mentions:         3\n"
     ]
    }
   ],
   "source": [
    "dummy_vocab = {'th1nk' : 0,\n",
    "               'think333' : 1,\n",
    "               'think.' : 2,\n",
    "               'th!nk' : 3,\n",
    "               'th...nk' : 4,\n",
    "               '#think' : 5,\n",
    "               '@think' : 6,\n",
    "               '@thinking':7,\n",
    "               '@nothink' : 8,\n",
    "               'think' : 9}\n",
    "investigate_vocabulary(dummy_vocab)"
   ]
  },
  {
   "cell_type": "code",
   "execution_count": 22,
   "metadata": {
    "id": "VpW8R_SuKR_l"
   },
   "outputs": [
    {
     "name": "stdout",
     "output_type": "stream",
     "text": [
      "With digit:       3812\n",
      "With punctuation: 315\n",
      "Hashtags:         0\n",
      "Mentions:         0\n"
     ]
    }
   ],
   "source": [
    "investigate_vocabulary(vec.vocabulary_)"
   ]
  },
  {
   "cell_type": "markdown",
   "metadata": {},
   "source": [
    "Получаем, что в нашем мешке слов есть большое количество слов с цифрами, в 10 раз меньше - с пунктуацией, а хештегов и упоминаний нет совсем."
   ]
  },
  {
   "cell_type": "markdown",
   "metadata": {
    "id": "bfNLaxX93HvM"
   },
   "source": [
    "## Задание 6 (0.5 балла)\n",
    "\n",
    "Вспомним, что на семинаре по текстам мы узнали, что в nltk есть специальный токенизатор для текстов - TweetTokenizer. Попробуем применить CountVectorizer с этим токенизатором. Ответьте на все вопросы из предыдущего пункта для TweetTokenizer и сравните результаты."
   ]
  },
  {
   "cell_type": "code",
   "execution_count": 23,
   "metadata": {
    "id": "xnlRoXUS3HvM"
   },
   "outputs": [],
   "source": [
    "from nltk.tokenize import TweetTokenizer\n",
    "# Чтобы узнать, какие параметры есть у этого токенайзера - используйте help(TweetTokenizer)\n",
    "# Для того, чтобы передать токенайзер в CountVectorizer используйте параметр tokenizer"
   ]
  },
  {
   "cell_type": "code",
   "execution_count": 24,
   "metadata": {},
   "outputs": [],
   "source": [
    "import warnings\n",
    "warnings.filterwarnings(\"ignore\")"
   ]
  },
  {
   "cell_type": "code",
   "execution_count": 25,
   "metadata": {
    "id": "8lPMIf6UKccT"
   },
   "outputs": [],
   "source": [
    "vec_tw = CountVectorizer(tokenizer=TweetTokenizer().tokenize)\n",
    "vec_tw.fit_transform(train_new.text);"
   ]
  },
  {
   "cell_type": "code",
   "execution_count": 26,
   "metadata": {
    "id": "7oR5kNKVLLpm"
   },
   "outputs": [
    {
     "name": "stdout",
     "output_type": "stream",
     "text": [
      "With digit:       3939\n",
      "With punctuation: 7355\n",
      "Hashtags:         1470\n",
      "Mentions:         1679\n"
     ]
    }
   ],
   "source": [
    "investigate_vocabulary(vec_tw.vocabulary_)"
   ]
  },
  {
   "cell_type": "markdown",
   "metadata": {
    "id": "Wetr80-ILULV"
   },
   "source": [
    "**Сравнение:** получаем, что `TweetTokenizer` лучше токенизирует слова, чем `CountVectorizer`, так как у нас появляется значительное количество упоминаний и хештегов, которые `CountVectorizer` не находил; количество токенов пунктуации, которое стало в 2 раза больше количества цифр. Все это показывает существенные преимущества `TweetTokenizer`, так как он более точно классифицирует твиты."
   ]
  },
  {
   "cell_type": "markdown",
   "metadata": {
    "id": "6_k_-i1x3HvM"
   },
   "source": [
    "## Задание 7 (2 балла)\n",
    "\n",
    "В scikit-learn мы можем оценивать процесс подсчета матрицы через CountVectorizer. У CountVectorizer, как и у других наследников \\_VectorizerMixin, есть аргумент tokenizer и preprocessor. preprocessor применится в самом начале к каждой строке вашего датасета, tokenizer же должен принять строку и вернуть токены.\n",
    "Давайте напишем кастомный токенайзер, которые сделает все, что нам нужно: \n",
    "\n",
    "0. Приведет все буквы к нижнему регистру\n",
    "1. Разобьет текст на токены с помощью TweetTokenizer из пакета nltk\n",
    "2. Удалит все токены содержащие не латинские буквы, кроме смайликов (будем считать ими токены содержащие только пунктуацию и, как минимум, одну скобочку) и хэштегов, которые после начальной # содержат только латинские буквы.\n",
    "3. Удалит все токены, которые перечислены в nltk.corpus.stopwords.words('english')\n",
    "4. Проведет стемминг с помощью SnowballStemmer\n",
    "\n"
   ]
  },
  {
   "cell_type": "code",
   "execution_count": 27,
   "metadata": {},
   "outputs": [],
   "source": [
    "from nltk.corpus import stopwords\n",
    "from nltk.stem.snowball import SnowballStemmer"
   ]
  },
  {
   "cell_type": "code",
   "execution_count": 28,
   "metadata": {
    "id": "qhwmi7DEMD25"
   },
   "outputs": [],
   "source": [
    "def contains_only_latin_letters(s: str) -> bool:\n",
    "    # Проверка, содержит ли слово только латинские буквы\n",
    "    return bool(re.search(r\"^[a-zA-Z]+$\", s))\n",
    "\n",
    "def is_emoji(s: str) -> bool:\n",
    "    # Проверка, является ли слово смайликом\n",
    "    return bool(re.search(r\"^[!\\\"#$%&\\'*+,-./:;<=>?@[\\]^_`{|}~]*[()]+[!\\\"#$%&\\'*+,-./:;<=>?@[\\]^_`{|}~]*$\", s))\n",
    "\n",
    "def is_hashtag(s: str) -> bool:\n",
    "    # Проверка, является ли слово хэштегом\n",
    "    return bool(re.search(r\"^#+[a-zA-Z]+$\", s))\n",
    "\n",
    "def custom_tokenizer(s: str) -> List[str]:    \n",
    "    # Кастомный токенайзер\n",
    "    s = s.lower()\n",
    "    tw = TweetTokenizer()\n",
    "    tokens = tw.tokenize(s)\n",
    "    new_tokens = list(filter(contains_only_latin_letters, tokens)) + list(filter(is_hashtag, tokens)) + list(filter(is_emoji, tokens))\n",
    "    new_tokens = list(set(new_tokens) - set(stopwords.words('english')))\n",
    "    stemmer = SnowballStemmer(\"english\")\n",
    "    text_stemmed = [stemmer.stem(w) for w in new_tokens]\n",
    "    return text_stemmed"
   ]
  },
  {
   "cell_type": "code",
   "execution_count": 29,
   "metadata": {
    "colab": {
     "base_uri": "https://localhost:8080/"
    },
    "id": "vYzPZzf8O6vj",
    "outputId": "b1107f8a-eef7-49f7-8ed3-910be791d645"
   },
   "outputs": [
    {
     "data": {
      "text/plain": [
       "['paint', ':-)', 'love', '#art']"
      ]
     },
     "execution_count": 29,
     "metadata": {},
     "output_type": "execute_result"
    }
   ],
   "source": [
    "custom_tokenizer('She LOVES painting :-) #art')"
   ]
  },
  {
   "cell_type": "markdown",
   "metadata": {
    "id": "2S_-ThAf5It4"
   },
   "source": [
    "Продемонстрируйте работу вашей функции на первых десяти текстах в обучающей выборке."
   ]
  },
  {
   "cell_type": "code",
   "execution_count": 30,
   "metadata": {},
   "outputs": [
    {
     "data": {
      "text/html": [
       "<div>\n",
       "<style scoped>\n",
       "    .dataframe tbody tr th:only-of-type {\n",
       "        vertical-align: middle;\n",
       "    }\n",
       "\n",
       "    .dataframe tbody tr th {\n",
       "        vertical-align: top;\n",
       "    }\n",
       "\n",
       "    .dataframe thead th {\n",
       "        text-align: right;\n",
       "    }\n",
       "</style>\n",
       "<table border=\"1\" class=\"dataframe\">\n",
       "  <thead>\n",
       "    <tr style=\"text-align: right;\">\n",
       "      <th></th>\n",
       "      <th>text</th>\n",
       "    </tr>\n",
       "  </thead>\n",
       "  <tbody>\n",
       "    <tr>\n",
       "      <th>1186</th>\n",
       "      <td>[histori, worst, ash, among, bundl, collaps, australia, trent, england, bridg]</td>\n",
       "    </tr>\n",
       "    <tr>\n",
       "      <th>4071</th>\n",
       "      <td>[michigan, hail, #wrestleon, stream, thank, great, camp, carol, illinoi, #goblu, techniqu]</td>\n",
       "    </tr>\n",
       "    <tr>\n",
       "      <th>5461</th>\n",
       "      <td>[houston, tennesse, movi, theater, polic, suspect, cnn, kill, shoot]</td>\n",
       "    </tr>\n",
       "    <tr>\n",
       "      <th>5787</th>\n",
       "      <td>[coupl, class, left, hour, riot, still]</td>\n",
       "    </tr>\n",
       "    <tr>\n",
       "      <th>7445</th>\n",
       "      <td>[elbow, path, knee, beach, morn, lake, left, wipe, highland, wound, right, surfac, run, crack]</td>\n",
       "    </tr>\n",
       "    <tr>\n",
       "      <th>151</th>\n",
       "      <td>[somewher, island, reunion, found, begin, accid, expert, airplan, french, #mlb, examin, franc, debri, air]</td>\n",
       "    </tr>\n",
       "    <tr>\n",
       "      <th>915</th>\n",
       "      <td>[indian, kill, fun, boast, killer, perth, bloodi, isol, video, remorseless, world, smirk, pakistani, show, citi, came]</td>\n",
       "    </tr>\n",
       "    <tr>\n",
       "      <th>1305</th>\n",
       "      <td>[except, idk, burn, realli]</td>\n",
       "    </tr>\n",
       "    <tr>\n",
       "      <th>2570</th>\n",
       "      <td>[destroy, hous, ), (, ask]</td>\n",
       "    </tr>\n",
       "    <tr>\n",
       "      <th>7399</th>\n",
       "      <td>[wound, polic, venezuela, maracay, suspect, offic, dead, exchang, shot, nirgua]</td>\n",
       "    </tr>\n",
       "  </tbody>\n",
       "</table>\n",
       "</div>"
      ],
      "text/plain": [
       "                                                                                                                        text\n",
       "1186                                          [histori, worst, ash, among, bundl, collaps, australia, trent, england, bridg]\n",
       "4071                              [michigan, hail, #wrestleon, stream, thank, great, camp, carol, illinoi, #goblu, techniqu]\n",
       "5461                                                    [houston, tennesse, movi, theater, polic, suspect, cnn, kill, shoot]\n",
       "5787                                                                                 [coupl, class, left, hour, riot, still]\n",
       "7445                          [elbow, path, knee, beach, morn, lake, left, wipe, highland, wound, right, surfac, run, crack]\n",
       "151               [somewher, island, reunion, found, begin, accid, expert, airplan, french, #mlb, examin, franc, debri, air]\n",
       "915   [indian, kill, fun, boast, killer, perth, bloodi, isol, video, remorseless, world, smirk, pakistani, show, citi, came]\n",
       "1305                                                                                             [except, idk, burn, realli]\n",
       "2570                                                                                              [destroy, hous, ), (, ask]\n",
       "7399                                         [wound, polic, venezuela, maracay, suspect, offic, dead, exchang, shot, nirgua]"
      ]
     },
     "execution_count": 30,
     "metadata": {},
     "output_type": "execute_result"
    }
   ],
   "source": [
    "pd.set_option('display.max_colwidth', None)\n",
    "train_new.text.iloc[0:10].apply(custom_tokenizer).to_frame()"
   ]
  },
  {
   "cell_type": "markdown",
   "metadata": {
    "id": "a5lNZ4tb3HvN"
   },
   "source": [
    "## Задание 8 (1 балл)\n",
    "\n",
    "1. Примените CountVectorizer с реализованным выше токенизатором к обучающим и тестовым выборкам.\n"
   ]
  },
  {
   "cell_type": "code",
   "execution_count": 31,
   "metadata": {
    "id": "LDqixz7QQEbn"
   },
   "outputs": [],
   "source": [
    "vectorizer = CountVectorizer(tokenizer=custom_tokenizer)\n",
    "bow = vectorizer.fit_transform(train_new.text)\n",
    "bow_test = vectorizer.transform(test_new.text)"
   ]
  },
  {
   "cell_type": "markdown",
   "metadata": {
    "id": "YcetwuEi5ds9"
   },
   "source": [
    "2. Обучите LogisticRegression на полученных признаках.\n"
   ]
  },
  {
   "cell_type": "code",
   "execution_count": 32,
   "metadata": {
    "id": "BVj03QV2QbWl"
   },
   "outputs": [],
   "source": [
    "from sklearn.linear_model import LogisticRegression\n",
    "\n",
    "clf = LogisticRegression()\n",
    "clf.fit(bow, train_new.target);"
   ]
  },
  {
   "cell_type": "markdown",
   "metadata": {
    "id": "6Ch6uz2P5e-T"
   },
   "source": [
    "3. Посчитайте метрику f1-score на тестовых данных."
   ]
  },
  {
   "cell_type": "code",
   "execution_count": 33,
   "metadata": {
    "colab": {
     "base_uri": "https://localhost:8080/"
    },
    "id": "osyC0pdT3cSD",
    "outputId": "cd957d5f-5118-4b7f-d7ba-01bb5a524086"
   },
   "outputs": [
    {
     "name": "stdout",
     "output_type": "stream",
     "text": [
      "F1 score: 0.7466087900162779\n"
     ]
    }
   ],
   "source": [
    "from sklearn.metrics import f1_score, classification_report\n",
    "\n",
    "pred = clf.predict(bow_test)\n",
    "print(\"F1 score:\", f1_score(test_new.target, pred))"
   ]
  },
  {
   "cell_type": "markdown",
   "metadata": {
    "id": "aFIEYOMZ3HvN"
   },
   "source": [
    "## Задание 9 (1 балл)\n",
    "\n",
    "1. Повторите 8 задание, но с tf-idf векторизатором. Как изменилось качество?\n"
   ]
  },
  {
   "cell_type": "code",
   "execution_count": 34,
   "metadata": {
    "colab": {
     "base_uri": "https://localhost:8080/"
    },
    "id": "cDqs61hl3ve3",
    "outputId": "fdd72125-dfde-4183-d614-3b0bc9002ada"
   },
   "outputs": [
    {
     "name": "stdout",
     "output_type": "stream",
     "text": [
      "F1 score: 0.7512747875354108\n"
     ]
    }
   ],
   "source": [
    "from sklearn.feature_extraction.text import TfidfVectorizer\n",
    "\n",
    "# 1\n",
    "vec_1 = TfidfVectorizer(tokenizer=custom_tokenizer)\n",
    "bow_1_train = vec_1.fit_transform(train_new.text)\n",
    "bow_1_test = vec_1.transform(test_new.text)\n",
    "\n",
    "clf_1 = LogisticRegression()\n",
    "clf_1.fit(bow_1_train, train_new.target)\n",
    "pred_1 = clf_1.predict(bow_1_test)\n",
    "\n",
    "print(\"F1 score:\", f1_score(test_new.target, pred_1))"
   ]
  },
  {
   "cell_type": "markdown",
   "metadata": {
    "id": "SXaNclTZSFjO"
   },
   "source": [
    "1. **Ответ:** f1 score увеличился лишь на 0.01. Так, `TF-IDF` дает значительный вес словам, которые часто встречаются в текстах. А так как у твитов есть такая специфика, что слова встерчаются довольно часто в обоих классах текстов, то из-за этого наш классификатор не смог дать больших улучшений, так как слова, относящие и не относящие твиты к положительному классу, могут иметь близкие веса."
   ]
  },
  {
   "cell_type": "markdown",
   "metadata": {
    "id": "CPtk0lCA5POY"
   },
   "source": [
    "2. Мы можем еще сильнее уменьшить размер нашей матрицы, если отбросим значения df близкие к единице. Скорее всего такие слова не несут много информации о категории, так как встречаются достаточно часто. Ограничьте максимальный df в параметрах TfIdfVectorizer, поставьте верхнюю границу равную 0.9. Как изменился размер матрицы, как изменилось качество?\n"
   ]
  },
  {
   "cell_type": "code",
   "execution_count": 35,
   "metadata": {
    "colab": {
     "base_uri": "https://localhost:8080/"
    },
    "id": "EU-MRXyRSHLm",
    "outputId": "6b5353a8-5f3b-4220-fcd4-64eecfe20054"
   },
   "outputs": [
    {
     "name": "stdout",
     "output_type": "stream",
     "text": [
      "F1 score: 0.7512747875354108\n"
     ]
    }
   ],
   "source": [
    "# 2\n",
    "vec_2 = TfidfVectorizer(tokenizer=custom_tokenizer, max_df=0.9)\n",
    "bow_2_train = vec_2.fit_transform(train_new.text)\n",
    "bow_2_test = vec_2.transform(test_new.text)\n",
    "\n",
    "clf_2 = LogisticRegression()\n",
    "clf_2.fit(bow_2_train, train_new.target)\n",
    "pred_2 = clf_2.predict(bow_2_test)\n",
    "\n",
    "print(\"F1 score:\", f1_score(test_new.target, pred_2))"
   ]
  },
  {
   "cell_type": "code",
   "execution_count": 37,
   "metadata": {
    "id": "z1TkO9HeSTJ9"
   },
   "outputs": [
    {
     "name": "stdout",
     "output_type": "stream",
     "text": [
      "Shape of matrix for Tfidf: (5329, 10482)\n",
      "Shape of matrix for Tfidf with max_df = 0.9: (5329, 10482)\n"
     ]
    }
   ],
   "source": [
    "print(f\"Shape of matrix for Tfidf: {bow_1_train.shape}\", f\"Shape of matrix for Tfidf with max_df = 0.9: {bow_2_train.shape}\", sep=\"\\n\") "
   ]
  },
  {
   "cell_type": "markdown",
   "metadata": {
    "id": "4Two_O3rSVmh"
   },
   "source": [
    "2. **Ответ:** Качество метрики не изменилось, так как в данном векторайзере мы выкинули слова, которые встречаются в >90% твитов, НО, учитывая, что до этого мы предобработали данные - убрали стоп-слова, вряд ли такие слова будут, либо их будет очень мало. А раз размеры наших матриц не изменились, значит таких слов не нашлось, и, следовательно, результат остался прежним."
   ]
  },
  {
   "cell_type": "markdown",
   "metadata": {
    "id": "VhyjbI5X5QnG"
   },
   "source": [
    "3. Также мы можем уменьшить размер матрицы, удаляя слова со слишком маленьким df. Удалось ли добиться улучшения качества? "
   ]
  },
  {
   "cell_type": "code",
   "execution_count": 38,
   "metadata": {
    "colab": {
     "base_uri": "https://localhost:8080/"
    },
    "id": "9mNpIxv6SfKc",
    "outputId": "607ec22e-1fdb-4c29-bbc4-6447ed266349"
   },
   "outputs": [
    {
     "name": "stdout",
     "output_type": "stream",
     "text": [
      "F1 score: 0.7541899441340782\n"
     ]
    }
   ],
   "source": [
    "# 3\n",
    "vec_3 = TfidfVectorizer(tokenizer=custom_tokenizer, min_df=0.0005)\n",
    "bow_3_train = vec_3.fit_transform(train_new.text)\n",
    "bow_3_test = vec_3.transform(test_new.text)\n",
    "\n",
    "clf_3 = LogisticRegression()\n",
    "clf_3.fit(bow_3_train, train_new.target)\n",
    "pred_3 = clf_3.predict(bow_3_test)\n",
    "\n",
    "print(\"F1 score:\", f1_score(test_new.target, pred_3))"
   ]
  },
  {
   "cell_type": "code",
   "execution_count": 39,
   "metadata": {},
   "outputs": [
    {
     "name": "stdout",
     "output_type": "stream",
     "text": [
      "Shape of matrix for Tfidf: (5329, 10482)\n",
      "Shape of matrix for Tfidf with min_df = 0.0005: (5329, 3135)\n"
     ]
    }
   ],
   "source": [
    "print(f\"Shape of matrix for Tfidf: {bow_1_train.shape}\", f\"Shape of matrix for Tfidf with min_df = 0.0005: {bow_3_train.shape}\", sep=\"\\n\") "
   ]
  },
  {
   "cell_type": "markdown",
   "metadata": {
    "id": "imeD8skxSqdg"
   },
   "source": [
    "3. **Ответ:** В этот раз при установлении параметра `min_df=0.0005` наша метрика улучшилась на 0.003. Так как благодаря данному параметру векторайзер будет игнорировать слова, которые встречаются реже указанного порога, именно поэтому необходимо подбирать это значение очень маленьким, опять же из-за специфики твитов (маленькие тексты). Однако при этом видим, что размер нашей матрицы уменьшился в 3 раза."
   ]
  },
  {
   "cell_type": "markdown",
   "metadata": {
    "id": "1l1sx4nB3HvN"
   },
   "source": [
    "## Задание 10 (1 балл)\n",
    "\n",
    "Еще один популяпный трюк, который позволит уменьшить количество признаков называется hashing trick. Его суть в том, то мы случайно группируем признаки ииии  ..... складываем их! А потом удаляем исходные признаки. В итоге все наши признаки это просто суммы исходных. Звучит странно, но это отлично работает. Давайте проверим этот трюк в нашем сеттинге.\n",
    "Также при таком подходе вам не нужно хранить словарь token->index, что тоже иногда полезно.\n",
    "\n",
    "1. Повторите задание 8 с HashingVectorizer, укажите количество фичей равное 5000.\n"
   ]
  },
  {
   "cell_type": "code",
   "execution_count": 40,
   "metadata": {
    "colab": {
     "base_uri": "https://localhost:8080/"
    },
    "id": "8qSoW894RXxz",
    "outputId": "720818f4-f774-4273-bb10-918ecc72ef44"
   },
   "outputs": [
    {
     "name": "stdout",
     "output_type": "stream",
     "text": [
      "F1 score: 0.7225368063420159\n"
     ]
    }
   ],
   "source": [
    "from sklearn.feature_extraction.text import HashingVectorizer\n",
    "\n",
    "vec_hash = HashingVectorizer(tokenizer=custom_tokenizer, n_features=5000)\n",
    "bow_hash_train = vec_hash.fit_transform(train_new.text)\n",
    "bow_hash_test = vec_hash.transform(test_new.text)\n",
    "\n",
    "clf_hash = LogisticRegression()\n",
    "clf_hash.fit(bow_hash_train, train_new.target)\n",
    "pred_hash = clf_hash.predict(bow_hash_test)\n",
    "\n",
    "print(\"F1 score:\", f1_score(test_new.target, pred_hash))"
   ]
  },
  {
   "cell_type": "markdown",
   "metadata": {
    "id": "1C3I4ceg6AG-"
   },
   "source": [
    "2. Какой из подходов показал самый высокий результат?"
   ]
  },
  {
   "cell_type": "markdown",
   "metadata": {
    "id": "_bIfyVlOS9Lu"
   },
   "source": [
    "2. **Ответ:** Самый высокий результат показал 3-ый способ - `TfidfVectorizer с параметром min_df=0.0005`. `HashingVectorizer` в данном случае показал самый низкий результат."
   ]
  },
  {
   "cell_type": "markdown",
   "metadata": {
    "id": "zylJ6l0R3HvN"
   },
   "source": [
    "## Задание 11 (1 балл)\n",
    "\n",
    "В этом задании нужно добиться f1 меры хотя в 0.75 на тестовых данных."
   ]
  },
  {
   "cell_type": "markdown",
   "metadata": {},
   "source": [
    "Так как самый лучший показатель у 3-ого способа, и его f1 score >0.75, то используем его."
   ]
  },
  {
   "cell_type": "code",
   "execution_count": 41,
   "metadata": {
    "id": "GSTVApFeS-OY"
   },
   "outputs": [
    {
     "name": "stdout",
     "output_type": "stream",
     "text": [
      "F1 score: 0.7541899441340782\n"
     ]
    }
   ],
   "source": [
    "vec_3 = TfidfVectorizer(tokenizer=custom_tokenizer, min_df=0.0005)\n",
    "bow_3_train = vec_3.fit_transform(train_new.text)\n",
    "bow_3_test = vec_3.transform(test_new.text)\n",
    "\n",
    "clf_3 = LogisticRegression()\n",
    "clf_3.fit(bow_3_train, train_new.target)\n",
    "pred_3 = clf_3.predict(bow_3_test)\n",
    "\n",
    "print(\"F1 score:\", f1_score(test_new.target, pred_3))"
   ]
  }
 ],
 "metadata": {
  "colab": {
   "collapsed_sections": [
    "YlLemInT3HvL",
    "A8CPBUal3HvL"
   ],
   "provenance": []
  },
  "kernelspec": {
   "display_name": "Python 3 (ipykernel)",
   "language": "python",
   "name": "python3"
  },
  "language_info": {
   "codemirror_mode": {
    "name": "ipython",
    "version": 3
   },
   "file_extension": ".py",
   "mimetype": "text/x-python",
   "name": "python",
   "nbconvert_exporter": "python",
   "pygments_lexer": "ipython3",
   "version": "3.8.10"
  }
 },
 "nbformat": 4,
 "nbformat_minor": 1
}
